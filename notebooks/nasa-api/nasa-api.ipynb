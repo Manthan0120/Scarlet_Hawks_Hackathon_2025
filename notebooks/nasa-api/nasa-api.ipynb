{
 "cells": [
  {
   "cell_type": "markdown",
   "metadata": {},
   "source": [
    "## RETRIEVE NASA API DATA"
   ]
  },
  {
   "cell_type": "code",
   "execution_count": null,
   "metadata": {},
   "outputs": [],
   "source": [
    "import requests\n",
    "import csv\n",
    "import time\n",
    "import json\n",
    "import numpy as np\n",
    "import pandas as pd"
   ]
  },
  {
   "cell_type": "code",
   "execution_count": null,
   "metadata": {},
   "outputs": [],
   "source": [
    "# Step 1: Define bounding box (your region)\n",
    "min_lat, max_lat = 41.644, 42.023\n",
    "min_lon, max_lon = -87.525, -88.260\n",
    "lat_step = 0.1\n",
    "lon_step = 0.1\n",
    "\n",
    "# Step 2: Create grid of points\n",
    "latitudes = np.arange(min_lat, max_lat, lat_step)\n",
    "longitudes = np.arange(min_lon, max_lon, lon_step)\n",
    "\n",
    "# Valid parameters for monthly data\n",
    "parameters = \"ALLSKY_SFC_SW_DWN,CLRSKY_SFC_SW_DWN,ALLSKY_SFC_SW_DNI,ALLSKY_KT,ALLSKY_SFC_LW_DWN,CLRSKY_SFC_PAR_TOT\"\n",
    "\n",
    "# Base API URL\n",
    "base_url = \"https://power.larc.nasa.gov/api/temporal/monthly/point\"\n",
    "\n",
    "# Step 3: Loop through each grid point and request data\n",
    "all_data = []\n",
    "\n",
    "for lat in latitudes:\n",
    "    for lon in longitudes:\n",
    "        print(f\"Requesting data for ({lat:.3f}, {lon:.3f})...\")\n",
    "        url = (\n",
    "            f\"{base_url}?parameters={parameters}&community=RE\"\n",
    "            f\"&longitude={lon:.3f}&latitude={lat:.3f}\"\n",
    "            f\"&start=2019&end=2023&format=JSON\"\n",
    "        )\n",
    "\n",
    "        try:\n",
    "            response = requests.get(url)\n",
    "            data = response.json()\n",
    "\n",
    "            records = data[\"properties\"][\"parameter\"]\n",
    "            months = list(data[\"properties\"][\"parameter\"][list(records.keys())[0]].keys())\n",
    "\n",
    "            # Create DataFrame\n",
    "            df = pd.DataFrame({\n",
    "                \"YearMonth\": months,\n",
    "                \"Latitude\": lat,\n",
    "                \"Longitude\": lon\n",
    "            })\n",
    "\n",
    "            for param in records:\n",
    "                df[param] = [records[param][month] for month in months]\n",
    "\n",
    "            all_data.append(df)\n",
    "\n",
    "            # Avoid hitting API too hard\n",
    "            time.sleep(0.5)\n",
    "\n",
    "        except Exception as e:\n",
    "            print(f\"Failed at ({lat:.3f}, {lon:.3f}): {e}\")\n",
    "\n",
    "# Step 4: Combine and save\n",
    "combined_df = pd.concat(all_data, ignore_index=True)\n",
    "combined_df.to_csv(\"solar_region_data_2019.csv\", index=False)\n",
    "print(\"All regional data saved to 'solar_region_data_2019.csv'\")"
   ]
  },
  {
   "cell_type": "code",
   "execution_count": null,
   "metadata": {},
   "outputs": [],
   "source": [
    "# Step 1: Define bounding box (your region)\n",
    "min_lat, max_lat = 41.644, 42.0236\n",
    "min_lon, max_lon = -87.940, -87.523\n",
    "lat_step = 0.01\n",
    "lon_step = 0.01\n",
    "\n",
    "# Step 2: Create grid of points\n",
    "latitudes = np.arange(min_lat, max_lat, lat_step)\n",
    "longitudes = np.arange(min_lon, max_lon, lon_step)\n",
    "\n",
    "# Valid parameters for monthly data7\n",
    "parameters = \"ALLSKY_SFC_SW_DWN,CLRSKY_SFC_SW_DWN,ALLSKY_SFC_SW_DNI,ALLSKY_KT,ALLSKY_SFC_LW_DWN,CLRSKY_SFC_PAR_TOT\"\n",
    "\n",
    "# Base API URL\n",
    "base_url = \"https://power.larc.nasa.gov/api/temporal/monthly/point\"\n",
    "\n",
    "# Step 3: Loop through each grid point and request data\n",
    "all_data = []\n",
    "\n",
    "for lat in latitudes:\n",
    "    for lon in longitudes:\n",
    "        print(f\"Requesting data for ({lat:.3f}, {lon:.3f})...\")\n",
    "        url = (\n",
    "            f\"{base_url}?parameters={parameters}&community=RE\"\n",
    "            f\"&longitude={lon:.3f}&latitude={lat:.3f}\"\n",
    "            f\"&start=2019&end=2024&format=JSON\"\n",
    "        )\n",
    "\n",
    "        try:\n",
    "            response = requests.get(url)\n",
    "            data = response.json()\n",
    "\n",
    "            records = data[\"properties\"][\"parameter\"]\n",
    "            months = list(data[\"properties\"][\"parameter\"][list(records.keys())[0]].keys())\n",
    "\n",
    "            # Create DataFrame\n",
    "            df = pd.DataFrame({\n",
    "                \"YearMonth\": months,\n",
    "                \"Latitude\": lat,\n",
    "                \"Longitude\": lon\n",
    "            })\n",
    "\n",
    "            for param in records:\n",
    "                df[param] = [records[param][month] for month in months]\n",
    "\n",
    "            all_data.append(df)\n",
    "\n",
    "            # Avoid hitting API too hard\n",
    "            time.sleep(0.5)\n",
    "\n",
    "        except Exception as e:\n",
    "            print(f\"Failed at ({lat:.3f}, {lon:.3f}): {e}\")\n",
    "\n",
    "# Step 4: Combine and save\n",
    "combined_df = pd.concat(all_data, ignore_index=True)\n",
    "combined_df.to_csv(\"chicago_solar_region_data1.csv\", index=False)\n",
    "print(\"All regional data saved to 'chicago_solar_region_data1.csv'\")\n"
   ]
  },
  {
   "cell_type": "code",
   "execution_count": null,
   "metadata": {},
   "outputs": [],
   "source": [
    "#CLEAN THE DATA\n",
    "import pandas as pd\n",
    "\n",
    "# Load the CSV\n",
    "df = pd.read_csv(\"cook_solar.csv\") \n",
    "\n",
    "# Convert all values to numeric if possible, coerce errors (just in case)\n",
    "df = df.apply(pd.to_numeric, errors='coerce')\n",
    "\n",
    "# Filter out rows where ANY column has -999.0\n",
    "df_cleaned = df[~(df == -999.0).any(axis=1)]\n",
    "\n",
    "# Save the cleaned data\n",
    "df_cleaned.to_csv(\"cleaned_file.csv\", index=False)\n",
    "\n"
   ]
  },
  {
   "cell_type": "code",
   "execution_count": 25,
   "metadata": {},
   "outputs": [
    {
     "data": {
      "text/html": [
       "<div>\n",
       "<style scoped>\n",
       "    .dataframe tbody tr th:only-of-type {\n",
       "        vertical-align: middle;\n",
       "    }\n",
       "\n",
       "    .dataframe tbody tr th {\n",
       "        vertical-align: top;\n",
       "    }\n",
       "\n",
       "    .dataframe thead th {\n",
       "        text-align: right;\n",
       "    }\n",
       "</style>\n",
       "<table border=\"1\" class=\"dataframe\">\n",
       "  <thead>\n",
       "    <tr style=\"text-align: right;\">\n",
       "      <th></th>\n",
       "      <th>YearMonth</th>\n",
       "      <th>Latitude</th>\n",
       "      <th>Longitude</th>\n",
       "      <th>ALLSKY_KT</th>\n",
       "      <th>ALLSKY_SFC_LW_DWN</th>\n",
       "      <th>ALLSKY_SFC_SW_DNI</th>\n",
       "      <th>ALLSKY_SFC_SW_DWN</th>\n",
       "      <th>CLRSKY_SFC_PAR_TOT</th>\n",
       "      <th>CLRSKY_SFC_SW_DWN</th>\n",
       "      <th>Year</th>\n",
       "      <th>Month</th>\n",
       "      <th>Month_sin</th>\n",
       "      <th>Month_cos</th>\n",
       "    </tr>\n",
       "  </thead>\n",
       "  <tbody>\n",
       "    <tr>\n",
       "      <th>0</th>\n",
       "      <td>201901</td>\n",
       "      <td>41.644</td>\n",
       "      <td>-87.94</td>\n",
       "      <td>0.34</td>\n",
       "      <td>6.05</td>\n",
       "      <td>1.98</td>\n",
       "      <td>1.38</td>\n",
       "      <td>1.19</td>\n",
       "      <td>2.82</td>\n",
       "      <td>2019</td>\n",
       "      <td>1</td>\n",
       "      <td>0.500000</td>\n",
       "      <td>8.660254e-01</td>\n",
       "    </tr>\n",
       "    <tr>\n",
       "      <th>1</th>\n",
       "      <td>201902</td>\n",
       "      <td>41.644</td>\n",
       "      <td>-87.94</td>\n",
       "      <td>0.39</td>\n",
       "      <td>6.40</td>\n",
       "      <td>2.32</td>\n",
       "      <td>2.12</td>\n",
       "      <td>1.66</td>\n",
       "      <td>3.89</td>\n",
       "      <td>2019</td>\n",
       "      <td>2</td>\n",
       "      <td>0.866025</td>\n",
       "      <td>5.000000e-01</td>\n",
       "    </tr>\n",
       "    <tr>\n",
       "      <th>2</th>\n",
       "      <td>201903</td>\n",
       "      <td>41.644</td>\n",
       "      <td>-87.94</td>\n",
       "      <td>0.48</td>\n",
       "      <td>6.44</td>\n",
       "      <td>4.19</td>\n",
       "      <td>3.62</td>\n",
       "      <td>2.33</td>\n",
       "      <td>5.46</td>\n",
       "      <td>2019</td>\n",
       "      <td>3</td>\n",
       "      <td>1.000000</td>\n",
       "      <td>6.123234e-17</td>\n",
       "    </tr>\n",
       "    <tr>\n",
       "      <th>3</th>\n",
       "      <td>201904</td>\n",
       "      <td>41.644</td>\n",
       "      <td>-87.94</td>\n",
       "      <td>0.47</td>\n",
       "      <td>7.43</td>\n",
       "      <td>4.23</td>\n",
       "      <td>4.53</td>\n",
       "      <td>2.97</td>\n",
       "      <td>6.79</td>\n",
       "      <td>2019</td>\n",
       "      <td>4</td>\n",
       "      <td>0.866025</td>\n",
       "      <td>-5.000000e-01</td>\n",
       "    </tr>\n",
       "    <tr>\n",
       "      <th>4</th>\n",
       "      <td>201905</td>\n",
       "      <td>41.644</td>\n",
       "      <td>-87.94</td>\n",
       "      <td>0.44</td>\n",
       "      <td>8.32</td>\n",
       "      <td>3.64</td>\n",
       "      <td>4.85</td>\n",
       "      <td>3.38</td>\n",
       "      <td>7.58</td>\n",
       "      <td>2019</td>\n",
       "      <td>5</td>\n",
       "      <td>0.500000</td>\n",
       "      <td>-8.660254e-01</td>\n",
       "    </tr>\n",
       "  </tbody>\n",
       "</table>\n",
       "</div>"
      ],
      "text/plain": [
       "   YearMonth  Latitude  Longitude  ALLSKY_KT  ALLSKY_SFC_LW_DWN  \\\n",
       "0     201901    41.644     -87.94       0.34               6.05   \n",
       "1     201902    41.644     -87.94       0.39               6.40   \n",
       "2     201903    41.644     -87.94       0.48               6.44   \n",
       "3     201904    41.644     -87.94       0.47               7.43   \n",
       "4     201905    41.644     -87.94       0.44               8.32   \n",
       "\n",
       "   ALLSKY_SFC_SW_DNI  ALLSKY_SFC_SW_DWN  CLRSKY_SFC_PAR_TOT  \\\n",
       "0               1.98               1.38                1.19   \n",
       "1               2.32               2.12                1.66   \n",
       "2               4.19               3.62                2.33   \n",
       "3               4.23               4.53                2.97   \n",
       "4               3.64               4.85                3.38   \n",
       "\n",
       "   CLRSKY_SFC_SW_DWN  Year  Month  Month_sin     Month_cos  \n",
       "0               2.82  2019      1   0.500000  8.660254e-01  \n",
       "1               3.89  2019      2   0.866025  5.000000e-01  \n",
       "2               5.46  2019      3   1.000000  6.123234e-17  \n",
       "3               6.79  2019      4   0.866025 -5.000000e-01  \n",
       "4               7.58  2019      5   0.500000 -8.660254e-01  "
      ]
     },
     "execution_count": 25,
     "metadata": {},
     "output_type": "execute_result"
    }
   ],
   "source": [
    "# Convert YearMonth to year and month\n",
    "df['Year'] = df['YearMonth'].astype(str).str[:4].astype(int)\n",
    "df['Month'] = df['YearMonth'].astype(str).str[4:].astype(int)\n",
    "# Remove the 13th month\n",
    "df = df[df['Month'] != 13]\n",
    "\n",
    "df['Month_sin'] = np.sin(2 * np.pi * df['Month'] / 12)\n",
    "df['Month_cos'] = np.cos(2 * np.pi * df['Month'] / 12)\n",
    "\n",
    "df.head()"
   ]
  },
  {
   "cell_type": "code",
   "execution_count": 26,
   "metadata": {},
   "outputs": [],
   "source": [
    "target = 'ALLSKY_SFC_SW_DWN'  # average daily shortwave radiation"
   ]
  },
  {
   "cell_type": "code",
   "execution_count": 31,
   "metadata": {},
   "outputs": [],
   "source": [
    "#train test split\n",
    "from sklearn.model_selection import train_test_split\n",
    "\n",
    "features = ['Latitude', 'Longitude', 'Month_sin', 'Month_cos','ALLSKY_KT', 'ALLSKY_SFC_LW_DWN']  # you can add others\n",
    "x = df[features]\n",
    "y = df[target]\n",
    "\n",
    "x_train, x_test, y_train, y_test = train_test_split(x, y, test_size=0.2, random_state=42)"
   ]
  },
  {
   "cell_type": "code",
   "execution_count": 32,
   "metadata": {},
   "outputs": [
    {
     "data": {
      "text/html": [
       "<style>#sk-container-id-2 {color: black;background-color: white;}#sk-container-id-2 pre{padding: 0;}#sk-container-id-2 div.sk-toggleable {background-color: white;}#sk-container-id-2 label.sk-toggleable__label {cursor: pointer;display: block;width: 100%;margin-bottom: 0;padding: 0.3em;box-sizing: border-box;text-align: center;}#sk-container-id-2 label.sk-toggleable__label-arrow:before {content: \"▸\";float: left;margin-right: 0.25em;color: #696969;}#sk-container-id-2 label.sk-toggleable__label-arrow:hover:before {color: black;}#sk-container-id-2 div.sk-estimator:hover label.sk-toggleable__label-arrow:before {color: black;}#sk-container-id-2 div.sk-toggleable__content {max-height: 0;max-width: 0;overflow: hidden;text-align: left;background-color: #f0f8ff;}#sk-container-id-2 div.sk-toggleable__content pre {margin: 0.2em;color: black;border-radius: 0.25em;background-color: #f0f8ff;}#sk-container-id-2 input.sk-toggleable__control:checked~div.sk-toggleable__content {max-height: 200px;max-width: 100%;overflow: auto;}#sk-container-id-2 input.sk-toggleable__control:checked~label.sk-toggleable__label-arrow:before {content: \"▾\";}#sk-container-id-2 div.sk-estimator input.sk-toggleable__control:checked~label.sk-toggleable__label {background-color: #d4ebff;}#sk-container-id-2 div.sk-label input.sk-toggleable__control:checked~label.sk-toggleable__label {background-color: #d4ebff;}#sk-container-id-2 input.sk-hidden--visually {border: 0;clip: rect(1px 1px 1px 1px);clip: rect(1px, 1px, 1px, 1px);height: 1px;margin: -1px;overflow: hidden;padding: 0;position: absolute;width: 1px;}#sk-container-id-2 div.sk-estimator {font-family: monospace;background-color: #f0f8ff;border: 1px dotted black;border-radius: 0.25em;box-sizing: border-box;margin-bottom: 0.5em;}#sk-container-id-2 div.sk-estimator:hover {background-color: #d4ebff;}#sk-container-id-2 div.sk-parallel-item::after {content: \"\";width: 100%;border-bottom: 1px solid gray;flex-grow: 1;}#sk-container-id-2 div.sk-label:hover label.sk-toggleable__label {background-color: #d4ebff;}#sk-container-id-2 div.sk-serial::before {content: \"\";position: absolute;border-left: 1px solid gray;box-sizing: border-box;top: 0;bottom: 0;left: 50%;z-index: 0;}#sk-container-id-2 div.sk-serial {display: flex;flex-direction: column;align-items: center;background-color: white;padding-right: 0.2em;padding-left: 0.2em;position: relative;}#sk-container-id-2 div.sk-item {position: relative;z-index: 1;}#sk-container-id-2 div.sk-parallel {display: flex;align-items: stretch;justify-content: center;background-color: white;position: relative;}#sk-container-id-2 div.sk-item::before, #sk-container-id-2 div.sk-parallel-item::before {content: \"\";position: absolute;border-left: 1px solid gray;box-sizing: border-box;top: 0;bottom: 0;left: 50%;z-index: -1;}#sk-container-id-2 div.sk-parallel-item {display: flex;flex-direction: column;z-index: 1;position: relative;background-color: white;}#sk-container-id-2 div.sk-parallel-item:first-child::after {align-self: flex-end;width: 50%;}#sk-container-id-2 div.sk-parallel-item:last-child::after {align-self: flex-start;width: 50%;}#sk-container-id-2 div.sk-parallel-item:only-child::after {width: 0;}#sk-container-id-2 div.sk-dashed-wrapped {border: 1px dashed gray;margin: 0 0.4em 0.5em 0.4em;box-sizing: border-box;padding-bottom: 0.4em;background-color: white;}#sk-container-id-2 div.sk-label label {font-family: monospace;font-weight: bold;display: inline-block;line-height: 1.2em;}#sk-container-id-2 div.sk-label-container {text-align: center;}#sk-container-id-2 div.sk-container {/* jupyter's `normalize.less` sets `[hidden] { display: none; }` but bootstrap.min.css set `[hidden] { display: none !important; }` so we also need the `!important` here to be able to override the default hidden behavior on the sphinx rendered scikit-learn.org. See: https://github.com/scikit-learn/scikit-learn/issues/21755 */display: inline-block !important;position: relative;}#sk-container-id-2 div.sk-text-repr-fallback {display: none;}</style><div id=\"sk-container-id-2\" class=\"sk-top-container\"><div class=\"sk-text-repr-fallback\"><pre>RandomForestRegressor(random_state=42)</pre><b>In a Jupyter environment, please rerun this cell to show the HTML representation or trust the notebook. <br />On GitHub, the HTML representation is unable to render, please try loading this page with nbviewer.org.</b></div><div class=\"sk-container\" hidden><div class=\"sk-item\"><div class=\"sk-estimator sk-toggleable\"><input class=\"sk-toggleable__control sk-hidden--visually\" id=\"sk-estimator-id-2\" type=\"checkbox\" checked><label for=\"sk-estimator-id-2\" class=\"sk-toggleable__label sk-toggleable__label-arrow\">RandomForestRegressor</label><div class=\"sk-toggleable__content\"><pre>RandomForestRegressor(random_state=42)</pre></div></div></div></div></div>"
      ],
      "text/plain": [
       "RandomForestRegressor(random_state=42)"
      ]
     },
     "execution_count": 32,
     "metadata": {},
     "output_type": "execute_result"
    }
   ],
   "source": [
    "#train the model\n",
    "\n",
    "from sklearn.ensemble import RandomForestRegressor\n",
    "model = RandomForestRegressor(n_estimators=100, random_state=42)\n",
    "model.fit(x_train, y_train)"
   ]
  },
  {
   "cell_type": "code",
   "execution_count": 33,
   "metadata": {},
   "outputs": [
    {
     "name": "stdout",
     "output_type": "stream",
     "text": [
      "MAE: 1.1499643924374459e-14\n",
      "R² Score: 1.0\n"
     ]
    }
   ],
   "source": [
    "#Evaluate\n",
    "from sklearn.metrics import mean_absolute_error, r2_score\n",
    "\n",
    "y_pred = model.predict(x_test)\n",
    "print(\"MAE:\", mean_absolute_error(y_test, y_pred))\n",
    "print(\"R² Score:\", r2_score(y_test, y_pred))"
   ]
  },
  {
   "cell_type": "code",
   "execution_count": 36,
   "metadata": {},
   "outputs": [
    {
     "name": "stdout",
     "output_type": "stream",
     "text": [
      "Cross-validated MAE: 0.01160525562373289\n"
     ]
    }
   ],
   "source": [
    "from sklearn.model_selection import cross_val_score\n",
    "scores = cross_val_score(model, x, y, cv=5, scoring='neg_mean_absolute_error')\n",
    "print(\"Cross-validated MAE:\", -scores.mean())"
   ]
  },
  {
   "cell_type": "code",
   "execution_count": 37,
   "metadata": {},
   "outputs": [
    {
     "name": "stdout",
     "output_type": "stream",
     "text": [
      "Best parameters: {'max_depth': None, 'min_samples_split': 2, 'n_estimators': 100}\n"
     ]
    }
   ],
   "source": [
    "from sklearn.model_selection import GridSearchCV\n",
    "\n",
    "param_grid = {\n",
    "    'n_estimators': [100, 200],\n",
    "    'max_depth': [None, 10, 20],\n",
    "    'min_samples_split': [2, 5, 10]\n",
    "}\n",
    "\n",
    "grid_search = GridSearchCV(RandomForestRegressor(), param_grid, cv=5)\n",
    "grid_search.fit(x_train, y_train)\n",
    "\n",
    "# Check best parameters\n",
    "print(\"Best parameters:\", grid_search.best_params_)\n",
    "model = grid_search.best_estimator_\n"
   ]
  },
  {
   "cell_type": "code",
   "execution_count": 79,
   "metadata": {},
   "outputs": [
    {
     "name": "stdout",
     "output_type": "stream",
     "text": [
      "Estimated daily solar energy (kWh/m²): 5.188199999999994\n"
     ]
    }
   ],
   "source": [
    "# Example: Predict for Chicago in April\n",
    "# Inputs\n",
    "lat,lon = 43.75041438389484, -84.84492681884045\n",
    "month = 7\n",
    "ALLSKY_KT = 0.47\n",
    "ALLSKY_SFC_LW_DWN = 7.43\n",
    "\n",
    "# Encode month cyclically\n",
    "month_sin = np.sin(2 * np.pi * month / 12)\n",
    "month_cos = np.cos(2 * np.pi * month / 12)\n",
    "\n",
    "# Feature names — must match training\n",
    "features = ['Latitude', 'Longitude', 'Month_sin', 'Month_cos', 'ALLSKY_KT', 'ALLSKY_SFC_LW_DWN']\n",
    "\n",
    "# Create a DataFrame for prediction\n",
    "X_new = pd.DataFrame([[lat, lon, month_sin, month_cos, ALLSKY_KT, ALLSKY_SFC_LW_DWN]], columns=features)\n",
    "\n",
    "# Predict\n",
    "prediction = model.predict(X_new)\n",
    "print(\"Estimated daily solar energy (kWh/m²):\", prediction[0])\n"
   ]
  },
  {
   "cell_type": "code",
   "execution_count": null,
   "metadata": {},
   "outputs": [],
   "source": [
    "#SAVE THE MODEL\n",
    "import joblib\n",
    "\n",
    "# Save the best estimator\n",
    "joblib.dump(model, 'solar_model.pkl')"
   ]
  },
  {
   "cell_type": "code",
   "execution_count": null,
   "metadata": {},
   "outputs": [],
   "source": [
    "import joblib\n",
    "import math\n",
    "# Load your saved model\n",
    "model = joblib.load('solar_model.pkl')\n",
    "\n",
    "# User input (change lat/lon values here)\n",
    "lat,lon = 41.749869979845556, -88.16472257924035\n",
    "month = 5\n",
    "ALLSKY_KT = 0.47\n",
    "ALLSKY_SFC_LW_DWN = 7.43\n",
    "\n",
    "month_sin = np.sin(2 * np.pi * month / 12)\n",
    "month_cos = np.cos(2 * np.pi * month / 12)\n",
    "\n",
    "# Create feature vector\n",
    "input_features = np.array([[lat, lon, month_sin, month_cos, ALLSKY_KT, ALLSKY_SFC_LW_DWN]])\n",
    "\n",
    "# Predict\n",
    "prediction = model.predict(input_features)\n",
    "\n",
    "print(f\"Estimated daily solar energy (kWh/m²): {prediction[0]}\")\n"
   ]
  }
 ],
 "metadata": {
  "kernelspec": {
   "display_name": "Python 3",
   "language": "python",
   "name": "python3"
  },
  "language_info": {
   "codemirror_mode": {
    "name": "ipython",
    "version": 3
   },
   "file_extension": ".py",
   "mimetype": "text/x-python",
   "name": "python",
   "nbconvert_exporter": "python",
   "pygments_lexer": "ipython3",
   "version": "3.10.4"
  }
 },
 "nbformat": 4,
 "nbformat_minor": 2
}
